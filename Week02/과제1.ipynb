{
 "cells": [
  {
   "cell_type": "markdown",
   "id": "e463572e",
   "metadata": {},
   "source": [
    "# 실행방법\n",
    "## 첫번째: shift + enter -> 실행이 되고 아래에 셀이 하나 생성됨\n",
    "## 두번째: ctrl + enter -> 실행이 되고 그 셀에 그대로 있음"
   ]
  },
  {
   "cell_type": "markdown",
   "id": "db97235c",
   "metadata": {},
   "source": [
    "# mode 변환\n",
    "## m : markdown 상태로\n",
    "## y : 파이썬 코드 상태로"
   ]
  },
  {
   "cell_type": "markdown",
   "id": "08847e36",
   "metadata": {},
   "source": [
    "# 셀 추가, 삭제\n",
    "## 추가 : a -> 위쪽에 추가, b -> 아래쪽에 추가\n",
    "## 삭제 : x"
   ]
  },
  {
   "cell_type": "code",
   "execution_count": 5,
   "id": "ac6f2cc3",
   "metadata": {},
   "outputs": [
    {
     "name": "stdout",
     "output_type": "stream",
     "text": [
      "학과 :  융합전자공학부\n"
     ]
    }
   ],
   "source": [
    "print('학과 : ', '융합전자공학부')"
   ]
  },
  {
   "cell_type": "code",
   "execution_count": 6,
   "id": "945fc3ac",
   "metadata": {},
   "outputs": [
    {
     "name": "stdout",
     "output_type": "stream",
     "text": [
      "학번 :  2018006417\n"
     ]
    }
   ],
   "source": [
    "print('학번 : ', 2018006417)"
   ]
  },
  {
   "cell_type": "code",
   "execution_count": 7,
   "id": "1a204652",
   "metadata": {},
   "outputs": [
    {
     "name": "stdout",
     "output_type": "stream",
     "text": [
      "이름 : 남종현\n"
     ]
    }
   ],
   "source": [
    "print('이름 :', '남종현')"
   ]
  }
 ],
 "metadata": {
  "kernelspec": {
   "display_name": "Python 3 (ipykernel)",
   "language": "python",
   "name": "python3"
  },
  "language_info": {
   "codemirror_mode": {
    "name": "ipython",
    "version": 3
   },
   "file_extension": ".py",
   "mimetype": "text/x-python",
   "name": "python",
   "nbconvert_exporter": "python",
   "pygments_lexer": "ipython3",
   "version": "3.8.11"
  },
  "toc": {
   "base_numbering": 1,
   "nav_menu": {},
   "number_sections": true,
   "sideBar": true,
   "skip_h1_title": false,
   "title_cell": "Table of Contents",
   "title_sidebar": "Contents",
   "toc_cell": false,
   "toc_position": {},
   "toc_section_display": true,
   "toc_window_display": true
  }
 },
 "nbformat": 4,
 "nbformat_minor": 5
}
